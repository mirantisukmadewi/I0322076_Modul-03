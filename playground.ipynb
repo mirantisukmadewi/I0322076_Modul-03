{
 "cells": [
  {
   "attachments": {},
   "cell_type": "markdown",
   "metadata": {},
   "source": [
    "### Instruksi:\n",
    "1. Buka buku Learn Python 3 The Hard Way.\n",
    "2. Di bawah ini ada Example dari beberapa Bab yang memuat Operator.\n",
    "3. Silakan kalian bisa latihan dengan melakukan dari yang diinstruksikan pada bagian \"Study Drill\" yang ada di bawah Example\n",
    "4. Bisa dibaca-baca bukunya agar mendapatkan wawasan lebih dari apa yang asisten berikan"
   ]
  },
  {
   "attachments": {},
   "cell_type": "markdown",
   "metadata": {},
   "source": [
    " "
   ]
  },
  {
   "attachments": {},
   "cell_type": "markdown",
   "metadata": {},
   "source": [
    "3: Numbers and Math"
   ]
  },
  {
   "cell_type": "code",
   "execution_count": 1,
   "metadata": {},
   "outputs": [
    {
     "name": "stdout",
     "output_type": "stream",
     "text": [
      "I will now count my chickens:\n",
      "Hens 30.0\n",
      "Roosters 97\n",
      "Now I will count the eggs:\n",
      "6.75\n",
      "Is it true that 3 + 2 < 5 - 7?\n",
      "False\n",
      "What is 3 + 2? 5\n",
      "What is 5 - 7? -2\n",
      "Oh, that's why it's False.\n",
      "How about some more.\n",
      "Is it greater? True\n",
      "Is it greater or equal? True\n",
      "Is it less or equal? False\n"
     ]
    }
   ],
   "source": [
    "# ex3: Numbers and Math\n",
    "\n",
    "print(\"I will now count my chickens:\")\n",
    "\n",
    "print(\"Hens\", 25 + 30 / 6)\n",
    "print(\"Roosters\", 100 -25 * 3 % 4)\n",
    "\n",
    "print(\"Now I will count the eggs:\")\n",
    "\n",
    "print(3 + 2 + 1 - 5 + 4 % 2 - 1 / 4 + 6)\n",
    "\n",
    "print(\"Is it true that 3 + 2 < 5 - 7?\")\n",
    "\n",
    "print(3 + 2 < 5 - 7)\n",
    "\n",
    "print(\"What is 3 + 2?\", 3 + 2)\n",
    "\n",
    "print(\"What is 5 - 7?\", 5 - 7)\n",
    "\n",
    "print(\"Oh, that's why it's False.\")\n",
    "\n",
    "print(\"How about some more.\")\n",
    "\n",
    "print(\"Is it greater?\", 5 > -2)\n",
    "print(\"Is it greater or equal?\", 5 >= -2)\n",
    "print(\"Is it less or equal?\", 5 <= -2)"
   ]
  },
  {
   "cell_type": "code",
   "execution_count": null,
   "metadata": {},
   "outputs": [],
   "source": [
    "# Kerjakan Study Drill 3) di sini\n",
    "# ex3: Numbers and Math\n",
    "#Mem-print kalimat 'I will now count my chickens:'\n",
    "print(\"I will now count my chickens:\")\n",
    "\n",
    "#Menghitung dan mem-print jumlah dari ayam betina \n",
    "print(\"Hens\", 25 + 30 / 6)\n",
    "\n",
    "#Menghitung dan mam-print jumlah dari ayam jantan\n",
    "print(\"Roosters\", 100 -25 * 3 % 4)\n",
    "\n",
    "#Mem-print kalimat 'Now I will count the eggs:'\n",
    "print(\"Now I will count the eggs:\")\n",
    "\n",
    "#Menghitung jumlah telur ayam dan mem-print hasilnya\n",
    "print(3 + 2 + 1 - 5 + 4 % 2 - 1 / 4 + 6)\n",
    "\n",
    "#Mem-print pertanyaan \"Is it true that 3 + 2 < 5 - 7?\"\n",
    "print(\"Is it true that 3 + 2 < 5 - 7?\")\n",
    "\n",
    "#Menghitung dan mem-print nilai dari hasil perhitungan 3 + 2 < 5 - 7 untuk menjawab pertanyaan yang diatas\n",
    "print(3 + 2 < 5 - 7)\n",
    "\n",
    "#Menghitung dan memprint hasil dari 3 + 2\n",
    "print(\"What is 3 + 2?\", 3 + 2)\n",
    "\n",
    "#Menghitung dan memprint hasil dari  5 - 7\n",
    "print(\"What is 5 - 7?\", 5 - 7)\n",
    "\n",
    "#Memprint kalimat prnyataan \"Oh, that's why it's False.\"\n",
    "print(\"Oh, that's why it's False.\")\n",
    "\n",
    "#Memprint kalimat pertanyaan \"How about some more.\"\n",
    "print(\"How about some more.\")\n",
    "\n",
    "#Memprint kalimat pertanyaan \"Is it greater?\" untuk 5 > -2 dan jawabannya true\n",
    "print(\"Is it greater?\", 5 > -2)\n",
    "\n",
    "#Memprint kalimat pertanyaan \"Is it greater or equal?\" untuk 5 >= -2 dan jawabannya true\n",
    "print(\"Is it greater or equal?\", 5 >= -2)\n",
    "\n",
    "#Memprint kalimat pertanyaan \"Is it less or equal?\" untuk 5 <= -2 dan jawabannya false\n",
    "print(\"Is it less or equal?\", 5 <= -2)"
   ]
  },
  {
   "attachments": {},
   "cell_type": "markdown",
   "metadata": {},
   "source": [
    "4: Variables and Names"
   ]
  },
  {
   "cell_type": "code",
   "execution_count": 1,
   "metadata": {},
   "outputs": [
    {
     "name": "stdout",
     "output_type": "stream",
     "text": [
      "There are 100 cars available.\n",
      "There are only 30 drivers available.\n",
      "There will be 70 empty cars today.\n",
      "We can transport 120.0 people today.\n",
      "We have 90 to carpool today.\n",
      "We need to put about 3.0 in each car.\n"
     ]
    }
   ],
   "source": [
    "cars = 100\n",
    "space_in_a_car = 4.0\n",
    "drivers = 30\n",
    "passengers = 90\n",
    "cars_not_driven = cars - drivers\n",
    "cars_driven = drivers\n",
    "carpool_capacity = cars_driven * space_in_a_car\n",
    "average_passengers_per_car = passengers / cars_driven\n",
    "\n",
    "print(\"There are\", cars, \"cars available.\")\n",
    "print(\"There are only\", drivers, \"drivers available.\")\n",
    "print(\"There will be\", cars_not_driven, \"empty cars today.\")\n",
    "print(\"We can transport\", carpool_capacity, \"people today.\")\n",
    "print(\"We have\", passengers, \"to carpool today.\")\n",
    "print(\"We need to put about\", average_passengers_per_car, \"in each car.\")"
   ]
  },
  {
   "cell_type": "code",
   "execution_count": null,
   "metadata": {},
   "outputs": [],
   "source": [
    "# Kerjakan Study Drill 4) di sini\n",
    "#Variabel yang menyatakan cars berjumlah 100\n",
    "cars = 100\n",
    "#variabel yang menyatakan space in a car bernilai 4\n",
    "space_in_a_car = 4.0\n",
    "#variabel yang menyatakan jumlah drivers berjumlah 30\n",
    "drivers = 30\n",
    "#variabel yang menyatakan passengers berjumlah 90\n",
    "passengers = 90\n",
    "#variabel untuk menghitung cars not driven dengan perhitungan cars - drivers\n",
    "cars_not_driven = cars - drivers\n",
    "#variabel yang menyatakan jumlah cars driven sama dengan jumlah drivers\n",
    "cars_driven = drivers\n",
    "#variabel untuk menghitung carpool capacity dengan menghitung cars_driven dikali space_in_a_car\n",
    "carpool_capacity = cars_driven * space_in_a_car\n",
    "#variabel untuk menghitung average passengers per car dengan menghitung passengers dibagi cars_driven\n",
    "average_passengers_per_car = passengers / cars_driven\n",
    "\n",
    "#Mem-print jumlah cars yang tersedia\n",
    "print(\"There are\", cars, \"cars available.\")\n",
    "#Mem-print jumlah pengemudi yang tersedia\n",
    "print(\"There are only\", drivers, \"drivers available.\")\n",
    "#Mem-print jumlah mobil yang tidak dikemudikan \n",
    "print(\"There will be\", cars_not_driven, \"empty cars today.\")\n",
    "#Mem-print jumlah kapasitas carpool\n",
    "print(\"We can transport\", carpool_capacity, \"people today.\")\n",
    "#Mem-print jumlah penumpang \n",
    "print(\"We have\", passengers, \"to carpool today.\")\n",
    "#Mem-print rata-rata dari penumpang pada tiap-tiap mobil\n",
    "print(\"We need to put about\", average_passengers_per_car, \"in each car.\")"
   ]
  },
  {
   "attachments": {},
   "cell_type": "markdown",
   "metadata": {},
   "source": [
    "### Instruksi:\n",
    "1. Tulis ulang kode contoh di atasnya dengan sebelumnya artikan dengan command (#)"
   ]
  },
  {
   "attachments": {},
   "cell_type": "markdown",
   "metadata": {},
   "source": [
    "Contoh\n",
    "\n",
    "Tulis program Python yang dapat menghitung luas dari Lingkaran dengan jari-jari yang diinput!"
   ]
  },
  {
   "cell_type": "code",
   "execution_count": null,
   "metadata": {},
   "outputs": [],
   "source": [
    "from math import pi\n",
    "r = float(input (\"Input the radius of the circle : \"))\n",
    "print (\"The area of the circle with radius \" + str(r) + \" is: \" + str(pi * r**2))"
   ]
  },
  {
   "cell_type": "code",
   "execution_count": 2,
   "metadata": {},
   "outputs": [
    {
     "name": "stdout",
     "output_type": "stream",
     "text": [
      "Luas lingkaran dengan jari-jari 5.0 adalah: 78.53981633974483\n"
     ]
    }
   ],
   "source": [
    "# import pi dari math library\n",
    "from math import pi\n",
    "\n",
    "# membuat variabel untuk user menginputkan nilai jari-jari\n",
    "r = float(input (\"Masukkan jari-jari lingkaran: \"))\n",
    "\n",
    "# Mem-print nilai luas lingkaran sekaligus menghitungnya\n",
    "print (\"Luas lingkaran dengan jari-jari \" + str(r) + \" adalah: \" + str(pi * r**2))"
   ]
  },
  {
   "attachments": {},
   "cell_type": "markdown",
   "metadata": {},
   "source": [
    "5: Tulis program Python untuk tambah, kurang, kali, dan bagi dari dua buah pecahan"
   ]
  },
  {
   "cell_type": "code",
   "execution_count": 4,
   "metadata": {},
   "outputs": [
    {
     "name": "stdout",
     "output_type": "stream",
     "text": [
      "2/3 + 3/7 = 23/21\n",
      "2/3 - 3/7 = 5/21\n",
      "2/3 * 3/7 = 2/7\n",
      "2/3 / 3/7 = 14/9\n"
     ]
    }
   ],
   "source": [
    "import fractions\n",
    "\n",
    "f1 = fractions.Fraction(2, 3)\n",
    "f2 = fractions.Fraction(3, 7)\n",
    "\n",
    "print('{} + {} = {}'.format(f1, f2, f1 + f2))\n",
    "print('{} - {} = {}'.format(f1, f2, f1 - f2))\n",
    "print('{} * {} = {}'.format(f1, f2, f1 * f2))\n",
    "print('{} / {} = {}'.format(f1, f2, f1 / f2))"
   ]
  },
  {
   "cell_type": "code",
   "execution_count": 12,
   "metadata": {},
   "outputs": [
    {
     "name": "stdout",
     "output_type": "stream",
     "text": [
      "2/3 + 3/7 = 23/21\n",
      "2/3 - 3/7 = 5/21\n",
      "2/3 * 3/7 = 2/7\n",
      "2/3 / 3/7 = 14/9\n"
     ]
    }
   ],
   "source": [
    "# import fractions\n",
    "import fractions\n",
    "\n",
    "#menyatakan f1 merupakan pecahan dari 2/3\n",
    "f1 = fractions.Fraction(2, 3)\n",
    "\n",
    "#menyatakan f2 merupakan pecahan dari 3/7\n",
    "f2 = fractions.Fraction(3, 7)\n",
    "\n",
    "# Mem-print nilai pertambahan dari f1+f2 sekaligus menghitungnya\n",
    "print('{} + {} = {}'.format(f1, f2, f1 + f2))\n",
    "\n",
    "# Mem-print nilai pengurangan dari f1-f2 sekaligus menghitungnya\n",
    "print('{} - {} = {}'.format(f1, f2, f1 - f2))\n",
    "\n",
    "# Mem-print nilai perkalian dari f1*f2 sekaligus menghitungnya\n",
    "print('{} * {} = {}'.format(f1, f2, f1 * f2))\n",
    "\n",
    "# Mem-print nilai pembagian dari f1/f2 sekaligus menghitungnya\n",
    "print('{} / {} = {}'.format(f1, f2, f1 / f2))\n",
    "\n"
   ]
  },
  {
   "attachments": {},
   "cell_type": "markdown",
   "metadata": {},
   "source": [
    "6: Tulis program Python yang akan menghitung luas dari segitiga dengan alas dan tinggi yang kamu inputkan!"
   ]
  },
  {
   "cell_type": "code",
   "execution_count": null,
   "metadata": {},
   "outputs": [],
   "source": [
    "b = int(input(\"Input alas : \"))\n",
    "h = int(input(\"Input tinggi : \"))\n",
    "\n",
    "luas = b*h/2\n",
    "\n",
    "print(\"luas = \", luas)"
   ]
  },
  {
   "cell_type": "code",
   "execution_count": 13,
   "metadata": {},
   "outputs": [
    {
     "name": "stdout",
     "output_type": "stream",
     "text": [
      "luas =  15.0\n"
     ]
    }
   ],
   "source": [
    "# Membuat variabel untuk user mengimputkan panjang alas segitiga\n",
    "b = int(input(\"masukan panjang alas segitiga : \"))\n",
    "\n",
    "# Membuat variabel untuk user mengimputkan tinggi segitiga\n",
    "h = int(input(\"masukan tinggi segitiga : \"))\n",
    "\n",
    "# Menghitung luas segitiga menggunakan rumus dari luas segitiga\n",
    "luas = b*h/2\n",
    "\n",
    "#Mem-print nilai luas segitiga\n",
    "print(\"luas = \", luas)"
   ]
  },
  {
   "attachments": {},
   "cell_type": "markdown",
   "metadata": {},
   "source": [
    "7: Tulis program Python yang dapat menghitung luas permukaan dan volume dari Tabung!"
   ]
  },
  {
   "cell_type": "code",
   "execution_count": 14,
   "metadata": {},
   "outputs": [
    {
     "name": "stdout",
     "output_type": "stream",
     "text": [
      "Volume tabung adalah:  141.42857142857142\n",
      "Luas permukaan tabung adalah:  150.85714285714286\n"
     ]
    }
   ],
   "source": [
    "pi=22/7\n",
    "tinggi = float(input('Tinggi dari Tabung: '))\n",
    "jarijari = float(input('Jari-jari dari Tabung: '))\n",
    "volume = pi * jarijari * jarijari * tinggi\n",
    "lp = ((2*pi*jarijari) * tinggi) + ((pi*jarijari**2)*2)\n",
    "print(\"Volume tabung adalah: \", volume)\n",
    "print(\"Luas permukaan tabung adalah: \", lp)"
   ]
  },
  {
   "cell_type": "code",
   "execution_count": 15,
   "metadata": {},
   "outputs": [
    {
     "name": "stdout",
     "output_type": "stream",
     "text": [
      "Volume tabung adalah:  141.42857142857142\n",
      "Luas permukaan tabung adalah:  150.85714285714286\n"
     ]
    }
   ],
   "source": [
    "#variabel yang menyatakan nilai pi=22/7\n",
    "pi = 22/7\n",
    "\n",
    "# membuat variabel untuk user memasukan tinggi tabung\n",
    "tinggi = float(input('Tinggi dari tabung: '))\n",
    "\n",
    "#membuat variabel untuk user memasukan jari-jari tabung\n",
    "jarijari = float(input('Jari-jari dari tabung: '))\n",
    "\n",
    "# menghitung volume tabung dengan menghitung pi * jarijari * jarijari * tinggi\n",
    "volume = pi * jarijari * jarijari * tinggi\n",
    "\n",
    "#menghitung luas permukaan tabung dengan menghitung ((2*pi*jarijari) * tinggi) + ((pi*jarijari**2)*2)\n",
    "lp = ((2*pi*jarijari) * tinggi) + ((pi*jarijari**2)*2)\n",
    "\n",
    "# mem-print nilai volume tabung\n",
    "print(\"Volume tabung adalah: \", volume)\n",
    "\n",
    "# mem-print nilai luas permukaan tabung\n",
    "print(\"Luas permukaan tabung adalah: \", lp)\n"
   ]
  },
  {
   "attachments": {},
   "cell_type": "markdown",
   "metadata": {},
   "source": [
    "8: Tulis program Python untuk mendapatkan akar pangkat dua dan pangkat dari nilai desimal yang diberikan!"
   ]
  },
  {
   "cell_type": "code",
   "execution_count": 16,
   "metadata": {},
   "outputs": [
    {
     "name": "stdout",
     "output_type": "stream",
     "text": [
      "Akar pangkat dua dari 1.44 adalah : 1.2\n",
      "Pangkat dua dari 1.44  adalah : 4.220695816996552825673328929\n"
     ]
    }
   ],
   "source": [
    "from decimal import *\n",
    "x = Decimal('1.44')\n",
    "print(\"Akar pangkat dua dari\",x, \"adalah :\", x.sqrt())\n",
    "print(\"Pangkat dua dari\",x, \" adalah :\", x.exp())\n"
   ]
  },
  {
   "cell_type": "code",
   "execution_count": 17,
   "metadata": {},
   "outputs": [
    {
     "name": "stdout",
     "output_type": "stream",
     "text": [
      "Akar pangkat dua dari 1.44 adalah : 1.2\n",
      "Pangkat dua dari 1.44 adalah : 4.220695816996552825673328929\n"
     ]
    }
   ],
   "source": [
    "# import * dari desimal\n",
    "from decimal import *\n",
    "\n",
    "#variabel yang menyatakan ('1.44') dalam bentuk decimal\n",
    "x = Decimal('1.44')\n",
    "\n",
    "# menghitung dan mem-print nilai x setelah diakar pangkat dua \n",
    "print(\"Akar pangkat dua dari\",x, \"adalah :\", x.sqrt())\n",
    "\n",
    "# menghitung dan mem-print nilai x setelah dipangkat dua \n",
    "print(\"Pangkat dua dari\",x, \"adalah :\", x.exp())"
   ]
  },
  {
   "attachments": {},
   "cell_type": "markdown",
   "metadata": {},
   "source": [
    "9: Tulis program Python yang dapat menentukan apakah benar bilangan tersebut LEBIH BESAR dari 4^4 DAN jika di-MODULUS-kan 34 hasilnya adalah 4!"
   ]
  },
  {
   "cell_type": "code",
   "execution_count": null,
   "metadata": {},
   "outputs": [],
   "source": [
    "def test(n):\n",
    "    return n % 34 == 4 and n > 4 ** 4\n",
    "\n",
    "n = 922\n",
    "print(\"Original Integer:\")\n",
    "print(n)\n",
    "print(\"Apakah benar integer tersebut lebih besar dari 4^4 dan hasilnya 4 jika di-mod-kan dengan 34:\")\n",
    "\n",
    "print(test(n))\n",
    "\n",
    "n = 914\n",
    "print(\"\\nOriginal Integer:\")\n",
    "print(n)\n",
    "print(\"Apakah benar integer tersebut lebih besar dari 4^4 dan hasilnya 4 jika di-mod-kan dengan 34:\")\n",
    "print(test(n))\n",
    "\n",
    "n = 854\n",
    "print(\"\\nOriginal Integer:\")\n",
    "print(n)\n",
    "print(\"Apakah benar integer tersebut lebih besar dari 4^4 dan hasilnya 4 jika di-mod-kan dengan 34:\")\n",
    "print(test(n))"
   ]
  },
  {
   "cell_type": "code",
   "execution_count": null,
   "metadata": {},
   "outputs": [],
   "source": [
    "#definisi dari fungsi test jika dimasukan nilai n\n",
    "def test(n) :\n",
    "    #mengetes apakah nilai n jika dimodulo 34 hasilnya 4 dan apakah nilai n lebih besar dari 4^4 dan akan mereturn ketika digunakan\n",
    "    return n % 34 == 4 and n > 4 ** 4\n",
    "\n",
    "# variabel yang menyatakan nilai n= 922\n",
    "n = 922\n",
    "#mem-print kalimat \"Original Integer:\"\n",
    "print(\"Original Integer:\")\n",
    "#mem-print nilai dari variabel n\n",
    "print(n)\n",
    "#mem-print kalimat \"Apakah benar integer tersebut lebih besar dari 4^4 dan hasilnya 4 jika di-mod-kan dengan 34:\"\n",
    "print(\"Apakah benar integer tersebut lebih besar dari 4^4 dan hasilnya 4 jika di-mod-kan dengan 34:\")\n",
    "#mem-print hasil dari hasil tes menggunakan nilai dari variabel n=922\n",
    "print(test(n))\n",
    "\n",
    "# variabel yang menyatakan nilai n = 914\n",
    "n = 914\n",
    "#mem-print kalimat original integer\n",
    "print(\"\\nOriginal Integer:\")\n",
    "#mem-print nilai dari variabel n diatas\n",
    "print(n)\n",
    "#mem-print kalimat \"Apakah benar integer tersebut lebih besar dari 4^4 dan hasilnya 4 jika di-mod-kan dengan 34:\"\n",
    "print(\"Apakah benar integer tersebut lebih besar dari 4^4 dan hasilnya 4 jika di-mod-kan dengan 34:\")\n",
    "#mem-print hasil tes menggunakan nilai dari variabel n=914\n",
    "print(test(n))\n",
    "\n",
    "#variabel yang menyatakan nilai n=854\n",
    "n = 854\n",
    "#mem-print kalimat original integer\n",
    "print(\"\\nOriginal Integer:\")\n",
    "#mem-print nilai dari variabel n diatas\n",
    "print(n)\n",
    "#mem-print kalimat \"Apakah benar integer tersebut lebih besar dari 4^4 dan hasilnya 4 jika di-mod-kan dengan 34:\"\n",
    "print(\"Apakah benar integer tersebut lebih besar dari 4^4 dan hasilnya 4 jika di-mod-kan dengan 34:\")\n",
    "#mem-print nilai dari hasil tes menggunakan nilai dari variabel n=854\n",
    "print(test(n))"
   ]
  },
  {
   "attachments": {},
   "cell_type": "markdown",
   "metadata": {},
   "source": [
    "10: Tulis program Python yang dapat menyimpan nama depan dan nama belakang user dan mem-print-nya dengan dibalik antara keduanya!\n"
   ]
  },
  {
   "cell_type": "code",
   "execution_count": 19,
   "metadata": {},
   "outputs": [
    {
     "name": "stdout",
     "output_type": "stream",
     "text": [
      "Hello  Dewi Miranti Sukma\n"
     ]
    }
   ],
   "source": [
    "fname = input(\"Input your First Name : \")\n",
    "lname = input(\"Input your Last Name : \")\n",
    "print (\"Hello  \" + lname + \" \" + fname)"
   ]
  },
  {
   "cell_type": "code",
   "execution_count": 20,
   "metadata": {},
   "outputs": [
    {
     "name": "stdout",
     "output_type": "stream",
     "text": [
      "Hello Dewi Miranti Sukma \n"
     ]
    }
   ],
   "source": [
    "# membuat variabel untuk user memasukan nama depan\n",
    "fname = input(\"Input your First Name : \")\n",
    "\n",
    "# membuat variabel untuk user memasukan nama belakang\n",
    "lname = input(\"Input your Last Name : \")\n",
    "\n",
    "# mem-print nama depan dan nama belakang user secara terbalik\n",
    "print(\"Hello \" + lname + \" \" + fname)\n"
   ]
  }
 ],
 "metadata": {
  "kernelspec": {
   "display_name": "Python 3",
   "language": "python",
   "name": "python3"
  },
  "language_info": {
   "codemirror_mode": {
    "name": "ipython",
    "version": 3
   },
   "file_extension": ".py",
   "mimetype": "text/x-python",
   "name": "python",
   "nbconvert_exporter": "python",
   "pygments_lexer": "ipython3",
   "version": "3.10.8"
  },
  "orig_nbformat": 4
 },
 "nbformat": 4,
 "nbformat_minor": 2
}
